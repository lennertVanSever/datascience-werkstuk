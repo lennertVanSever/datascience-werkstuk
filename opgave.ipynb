{
 "cells": [
  {
   "cell_type": "markdown",
   "id": "f324ea0f",
   "metadata": {},
   "source": [
    "# 🐝 Plants for bees\n",
    "\n",
    "## 📖 Background\n",
    "You are employed by the local government's environmental agency, and you're currently leading a project focused on establishing areas that are conducive to pollinator bees. You can use both native and non-native plants to make these areas friendly for bees. It's essential to pick the right plants to make sure the bee environment is the best it can be. The team has gathered information about native and non-native plants and how they impact pollinator bees. Your job is to study this data and offer suggestions on which plants are best for creating an ideal habitat for pollinator bees."
   ]
  },
  {
   "cell_type": "markdown",
   "id": "ec42bdbb",
   "metadata": {},
   "source": [
    "## 💾 The Data\n",
    "You have assembled information on the plants and bees research in a file called `plants_and_bees.csv`. Each row represents a sample that was taken from a patch of land where the plant species were being studied.\n",
    "\n",
    "| Column     | Description              |\n",
    "|------------|--------------------------|\n",
    "| `sample_id` | The ID number of the sample taken. |\n",
    "| `bees_num` | The total number of bee individuals in the sample. |\n",
    "| `date` | Date the sample was taken. |\n",
    "| `season` | Season during sample collection (\"early.season\" or \"late.season\"). |\n",
    "| `site` | Name of collection site. |\n",
    "| `native_or_non` | Whether the sample was from a native or non-native plot. |\n",
    "| `sampling` | The sampling method. |\n",
    "| `plant_species` | The name of the plant species the sample was taken from. None indicates the sample was taken from the air. |\n",
    "| `time` | The time the sample was taken. |\n",
    "| `bee_species` | The bee species in the sample. |\n",
    "| `sex` | The gender of the bee species. |\n",
    "| `specialized_on` | The plant genus the bee species preferred. |\n",
    "| `parasitic` | Whether or not the bee is parasitic (0:no, 1:yes). |\n",
    "| `nesting` | The bees nesting method. |\n",
    "| `status` | The status of the bee species. |\n",
    "| `nonnative_bee` | Whether the bee species is native or not (0:no, 1:yes). |\n",
    "\n",
    "[Source](https://datadryad.org/stash/dataset/doi%253A10.5061%252Fdryad.pzgmsbcj8) (data has been modified)"
   ]
  },
  {
   "cell_type": "markdown",
   "id": "7d8f44e2",
   "metadata": {},
   "source": [
    "## 💪 Challenge\n",
    "Provide your agency with a report that covers the following:\n",
    "* A clean dataset. This means converting the columns to the correct data type, dealing with missing values ...\n",
    "* Which plants are preferred by native vs non-native bee species? To determine which plants are preferred by native and non-native bees, use a machine learning algorithm by choice.\n",
    "* A visualization of the distribution of bee and plant species across one of the samples.\n",
    "* Select the top three plant species you would recommend to the agency to support native bees.\n",
    "* A small conclusion with your recommendations."
   ]
  },
  {
   "cell_type": "markdown",
   "id": "8a14706d",
   "metadata": {},
   "source": [
    "## ✅ Checklist before uploading\n",
    "- Rename the notebook as your full name with an underscore. Example: gregory_wullaert.ipynb\n",
    "- **Remove redundant cells** like the judging criteria, so the workbook is focused on your work.\n",
    "- Check that all the cells run without error."
   ]
  },
  {
   "cell_type": "markdown",
   "id": "baba4e6e",
   "metadata": {},
   "source": [
    "## 💀 Deadline\n",
    "Please ensure that your data science project is uploaded no later than **January 7, 2024** You will be graded on the notebook itself."
   ]
  }
 ],
 "metadata": {
  "kernelspec": {
   "display_name": "Python 3 (ipykernel)",
   "language": "python",
   "name": "python3"
  },
  "language_info": {
   "codemirror_mode": {
    "name": "ipython",
    "version": 3
   },
   "file_extension": ".py",
   "mimetype": "text/x-python",
   "name": "python",
   "nbconvert_exporter": "python",
   "pygments_lexer": "ipython3",
   "version": "3.9.12"
  }
 },
 "nbformat": 4,
 "nbformat_minor": 5
}
