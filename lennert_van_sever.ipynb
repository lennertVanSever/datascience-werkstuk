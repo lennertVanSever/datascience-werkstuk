{
 "cells": [
  {
   "cell_type": "markdown",
   "metadata": {},
   "source": [
    "# Plants for bees solution\n",
    "\n",
    "Student: Lennert Van Sever\n",
    "\n",
    "### Tasks\n",
    " - Clean up dataset\n",
    " - Apply machine learning algorithm\n",
    " - Data visualization\n",
    " - Recommendation\n",
    " - Conclusion\n",
    "\n",
    "## Clean up dataset\n",
    "\n"
   ]
  },
  {
   "cell_type": "code",
   "execution_count": null,
   "metadata": {},
   "outputs": [],
   "source": []
  }
 ],
 "metadata": {
  "language_info": {
   "name": "python"
  },
  "orig_nbformat": 4
 },
 "nbformat": 4,
 "nbformat_minor": 2
}
